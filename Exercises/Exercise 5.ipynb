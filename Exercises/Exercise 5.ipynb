{
 "cells": [
  {
   "cell_type": "markdown",
   "metadata": {},
   "source": [
    "# TMA4320 - Øving 5, Iterative metoder\n",
    "\n",
    "Dette er en liten øving som du burde kunne gjøre før du starter opp med Prosjekt 2.\n",
    "Den bli veiledet i øvingstimen fredag 22.2, kl 9-10. Innleveringsfrist er fredag 1. mars.\n",
    "\n",
    "\n",
    "**Oppgave 1** Vi skal løse et spesifikt ligningssystem\n",
    "$$\n",
    "     A \\mathbf{u} = b,\\quad A\\in\\mathbb{R}^{n\\times n},\\quad b\\in\\mathbb{R}^n\n",
    "$$\n",
    "\n",
    "med hensyn på $\\mathbf{u}$ ved å bruke SOR-metoden. La $h=\\frac{1}{n+1}$ og la $b_i=h^2f(x_i)$\n",
    "der $f(x)$ er en funksjon definert på intervallet $x\\in[0,1]$. Vi tenker oss at systemet stammer fra Poisson-problemet $-u''(x)=f(x)$ der den dobbelderiverte er erstattet med en differenseformel, og en bruker randverdier $u(0)=u(1)=0$.\n",
    "Vi har da at\n",
    "\n",
    "$$\n",
    "A = \\left[\n",
    "\\begin{array}{rrrrrrr}\n",
    "2 & -1 & 0 &  \\cdots & 0  \\\\\n",
    "-1&  2 & -1    &   \\ddots      & \\vdots \\\\\n",
    "0 & \\ddots & \\ddots & \\ddots & 0 \\\\\n",
    "\\vdots &\\ddots & \\ddots &\\ddots & -1 \\\\\n",
    "0 &\\cdots & 0 & -1 & 2\n",
    "\\end{array} \n",
    "\\right]\n",
    "$$\n",
    "\n",
    "Du kan bruke følgende verdier til å teste ut:\n",
    "\n",
    "* $n=10$\n",
    "* $f(x)=x$ som impliserer at den eksakte løsningen er $u(x) = \\frac{1}{6}\\,x\\,(1-x^2)$ eller\n",
    "$\\mathbf{u}_i\\,=\\,ih\\,(1-(ih)^2),\\ i=1,\\ldots,n$\n",
    "* $\\mathtt{tol}=$1e-5\n",
    "* $\\omega=1.2$\n",
    "* $\\mathtt{maxiter}=1000$\n",
    "* $u_0=[0,\\ldots,0]^T$ (numpy.zeros(n))\n",
    "\n",
    "Bruk algoritmen beskrevet i boka på side 110 og bruk gjerne en funksjonsheader som nedenfor.\n",
    "Bruk det enkle feilestimatet $\\mathtt{est}=\\|u^{(k+1)}-u^{(k)}\\|$ (numpy.linalg.norm()).\n",
    "\n",
    "**NB!** Du kan skrive funksjonen som *dedikert* til matrisen $A$, dvs funksjonen hardkoder at $A$ er gitt som ovenfor og behøver ikke å kunne brukes for en vilkårlig $A$.\n",
    "\n",
    "**Kontrollspørsmål 1** Hvor mange iterasjoner trengs for å oppnå det spesifiserte stoppkriteriet ovenfor.\n",
    "Denne gangen angir du ditt resultat (ikke flervalg).\n",
    "\n",
    "**Oppgave 2** For tilfellet $n=30$, $f(x)=-\\sin x\\ln x$, $\\mathtt{tol}=$1e-5, $u_0=[0,\\ldots,0]^T$, prøv deg fram for å finne hvilken $\\omega$ som gjør at iterasjonen konvergerer raskest.\n",
    "\n",
    "**Kontrollspørsmål 2:** Angi din optimale $\\omega$ med 2 gjeldende siffer (dvs f.eks. 1.3). Du kan nøye deg med å søke etter $\\omega$-verdier i intervallet $[1,2]$. Her angir du også verdi (ikke flervalg).\n",
    "\n",
    "\n",
    "**Godkjenningskrav**\n",
    "En Jupyter notebook fil med funksjon som implementerer SOR-metoden som spesifisert skal lastes opp i Bb og det skal svares på kontrollspørsmål.\n",
    "\n"
   ]
  },
  {
   "cell_type": "code",
   "execution_count": 1,
   "metadata": {},
   "outputs": [
    {
     "name": "stdout",
     "output_type": "stream",
     "text": [
      "[ 0.01501485  0.02928066  0.0420466   0.05256151  0.06007402  0.06383252\n",
      "  0.06308523  0.05708027  0.0450657   0.02628957]\n",
      "60\n",
      "------------------------------------------------------------------------\n",
      "[ 0.0043279   0.00854101  0.01257089  0.01636678  0.01988944  0.02310831\n",
      "  0.02599973  0.02854581  0.03073361  0.03255454  0.03400384  0.03508019\n",
      "  0.0357854   0.0361241   0.03610347  0.03573309  0.03502468  0.03399194\n",
      "  0.03265039  0.03101721  0.02911113  0.02695223  0.02456191  0.02196266\n",
      "  0.01917803  0.01623252  0.0131514   0.0099607   0.00668705  0.00335761]\n"
     ]
    }
   ],
   "source": [
    "import numpy as np\n",
    "import matplotlib.pyplot as plt\n",
    "\n",
    "global n\n",
    "n = 10\n",
    "\n",
    "def g(x):\n",
    "    return x\n",
    "\n",
    "def f(x):\n",
    "    return -np.sin(x)*np.log(x)\n",
    "\n",
    "def create_b(f):\n",
    "    h = 1/(n+1)\n",
    "    b = []\n",
    "    for i in range(1,n+1):\n",
    "        b.append(f(i*h)*h**2)\n",
    "    return b\n",
    "\n",
    "def Poisson(omega,f,u0,tol = 1e-5,maxiter = 1000):\n",
    "    iteration = 0\n",
    "    D = [2]*n\n",
    "    L = [-1]*(n-1)\n",
    "    U = [-1]*(n-1)\n",
    "    b = create_b(f)\n",
    "    x_k = u0\n",
    "    x_k1 = np.linalg.inv(omega*np.diag(L,-1)+np.diag(D))@((1-omega)*np.diag(D)@x_k-omega*np.diag(U,1)@x_k) + omega*np.linalg.inv(np.diag(D)+omega*np.diag(L,-1))@b\n",
    "    while (np.linalg.norm(x_k1-x_k)) > tol and iteration < maxiter :\n",
    "        x_k = x_k1\n",
    "        x_k1 = np.linalg.inv(omega*np.diag(L,-1)+np.diag(D))@((1-omega)*np.diag(D)@x_k-omega*np.diag(U,1)@x_k) + omega*np.linalg.inv(np.diag(D)+omega*np.diag(L,-1))@b\n",
    "        iteration +=1\n",
    "    return x_k1,iteration\n",
    "\n",
    "u0 = np.zeros(n)\n",
    "x,iteration = Poisson(1.2,g,u0)\n",
    "print(x)\n",
    "print(iteration)\n",
    "print(\"------------------------------------------------------------------------\")\n",
    "n = 30\n",
    "u0 = np.zeros(n)\n",
    "x1,iteration1 = Poisson(1.2,f,u0)\n",
    "print(x1)"
   ]
  },
  {
   "cell_type": "code",
   "execution_count": 69,
   "metadata": {},
   "outputs": [
    {
     "name": "stdout",
     "output_type": "stream",
     "text": [
      "Number of iteration:  53\n",
      "Value of omega: 1.8300000000000007\n"
     ]
    }
   ],
   "source": [
    "maxvalue = 10000\n",
    "x = [0]*30\n",
    "curromega = 0.0\n",
    "j = 1\n",
    "for i in range(0,100):\n",
    "    j+=0.01 #Må gjøre slik fordi iteratoren kan ikke være en float.\n",
    "    _, iteration = Poisson(j,g,u0)\n",
    "    if iteration < maxvalue:\n",
    "        maxvalue = iteration\n",
    "        curromega = j\n",
    "print(\"Number of iteration: \",maxvalue)\n",
    "print(\"Value of omega:\",curromega)"
   ]
  },
  {
   "cell_type": "code",
   "execution_count": null,
   "metadata": {
    "collapsed": true
   },
   "outputs": [],
   "source": []
  }
 ],
 "metadata": {
  "kernelspec": {
   "display_name": "Python 3",
   "language": "python",
   "name": "python3"
  },
  "language_info": {
   "codemirror_mode": {
    "name": "ipython",
    "version": 3
   },
   "file_extension": ".py",
   "mimetype": "text/x-python",
   "name": "python",
   "nbconvert_exporter": "python",
   "pygments_lexer": "ipython3",
   "version": "3.7.6"
  },
  "toc": {
   "base_numbering": 1,
   "nav_menu": {},
   "number_sections": true,
   "sideBar": true,
   "skip_h1_title": true,
   "title_cell": "Table of Contents",
   "title_sidebar": "Contents",
   "toc_cell": false,
   "toc_position": {},
   "toc_section_display": true,
   "toc_window_display": false
  }
 },
 "nbformat": 4,
 "nbformat_minor": 2
}
