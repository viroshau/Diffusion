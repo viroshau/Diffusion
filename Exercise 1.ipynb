{
 "cells": [
  {
   "cell_type": "markdown",
   "metadata": {},
   "source": [
    "# Øving 1, TMA4320\n",
    "\n",
    "<div class=\"alert alert-block alert-success\">\n",
    "\n",
    "<i>Opplegget for øvingen er følgende:</i> Ta utgangspunkt i denne Jupyter Notebook'en. Skriv all nødvendig kode og lagre resultatet i en egen Jupyter Notebook. Ta deretter prøven med navn \"Øving 1\" i Blackboard der du bes om å gi inn en del svar du finner med programmet ditt. Last også opp din Jupyter Notebook, den blir vurdert kun når det er tvil eller ved stikkprøver.\n",
    "\n",
    "\n",
    "<i>Samarbeid vs. plagiat:</i> Det er lov å samarbeide om alle øvinger,  men du skal skrive dine egne Notebooks og ikke kopiere eller plagiere andre. Juks *kan* bli straffet i spesielle tilfeller.\n",
    "\n",
    "<i>Forbehold:</i>\n",
    "Detter er første gang vi prøver øving med prøve i Bb, så fortvil ikke dersom noe halter litt.\n",
    "</div>\n",
    "\n",
    "Vi skal se litt nærmere på intervallhalveringsmetoden som ble diskutert i forelesningstimene.\n",
    "Denne metoden starter med en brakettering av ligningens rot, dvs to tall $a$ og $b$ slik at $f(a)\\cdot f(b) \\leq 0$ og dermed vet vi fra skjæringssetningen at det fins en $x\\in[a,b]$ slik at $f(x)=0$. Så finner vi midtpunktet $c=\\frac12(a+b)$ og sjekker om roten er i intervallet $[a,c)$ eller $[c,b]$ etc. Merk at metoden overhodet ikke benytter verdiene $f(a)$ og $f(b)$ i beregningen av det nye punktet $c$. Det kunne den ha gjort.\n"
   ]
  },
  {
   "cell_type": "markdown",
   "metadata": {},
   "source": [
    "## Funksjonen\n",
    "\n",
    "Gjennom hele øvingen vil vi lete etter nullpunktene til funksjonen\n",
    "$$\n",
    "    f(x) = x\\arctan x - \\frac12\\ln(x^2+1)-\\frac14\n",
    "$$\n",
    "\n",
    "Funksjonen har nullpunkter i $x_{1,2} \\approx \\pm 0{,}7$.\n",
    "\n",
    "I Python blir den:"
   ]
  },
  {
   "cell_type": "code",
   "execution_count": 5,
   "metadata": {
    "collapsed": true
   },
   "outputs": [],
   "source": [
    "from math import atan, log\n",
    "\n",
    "def f1(x):\n",
    "    return x * atan(x) - 0.5 * log(x**2 + 1) - 0.25\n"
   ]
  },
  {
   "cell_type": "markdown",
   "metadata": {},
   "source": [
    "## Intervallhalvvering\n",
    "Vi gjengir nå koden for intervallhalvering"
   ]
  },
  {
   "cell_type": "code",
   "execution_count": 6,
   "metadata": {
    "collapsed": true
   },
   "outputs": [],
   "source": [
    "def bisect(f, a, b, tol):\n",
    "    \"\"\"Bisection method for solving the equation f(x) = 0\n",
    "    \n",
    "    Performs the bisection method on the interval [a,b].\n",
    "    We assume a<b, f(a)*f(b) < 0.\n",
    "    We stop the method when we have bracketed the root up to the tolerance tol.\n",
    "    \"\"\"\n",
    "    assert a<b, \"a is not strictly smaller than b.\"\n",
    "    assert tol>0., \"tol is not a positive real number.\"\n",
    "    fa = f(a)\n",
    "    fb = f(b)\n",
    "    assert fa*fb<0., \"The value of f at a and b seems to have the same sign.\"\n",
    "\n",
    "    iteration_number = 0\n",
    "    while abs(b-a) > tol :\n",
    "        iteration_number += 1\n",
    "        c  = (a+b)/2.0\n",
    "        fc = f(c)\n",
    "        # Uncomment to get information on every iteration:\n",
    "        #print(\"Iter: %4d, a: %e, f(a): %e, c: %e, f(c): %e, b: %e, f(b): %e\"\n",
    "        #          % (iteration_number,a,fa,c,fc,b,fb))\n",
    "\n",
    "        if fa*fc < 0 :\n",
    "            b  = c\n",
    "            fb = fc\n",
    "        else:\n",
    "            a  = c\n",
    "            fa = fc\n",
    "\n",
    "    return c, iteration_number\n"
   ]
  },
  {
   "cell_type": "markdown",
   "metadata": {},
   "source": [
    "Vi tester deretter koden for funksjonen fra tidligere:"
   ]
  },
  {
   "cell_type": "code",
   "execution_count": 7,
   "metadata": {},
   "outputs": [
    {
     "name": "stdout",
     "output_type": "stream",
     "text": [
      "Finally, c=7.351542e-01 and f(c)=-1.759006e-07 computed in 20 iterasjoner\n"
     ]
    }
   ],
   "source": [
    "a = 0\n",
    "b = 1\n",
    "tol = 1.0E-06\n",
    "c, niter = bisect(f1, a, b, tol)\n",
    "fc = f1(c)\n",
    "print(\"Finally, c=%e and f(c)=%e computed in %d iterasjoner\" % (c, fc, niter))\n"
   ]
  },
  {
   "cell_type": "markdown",
   "metadata": {},
   "source": [
    "**Spørsmål 1:** Hvor mange iterasjoner brukte intervallhalvveringsmetoden?"
   ]
  },
  {
   "cell_type": "markdown",
   "metadata": {},
   "source": [
    "## Regula falsi metoder\n",
    "I stedet for å la $c$ være midtpunktet mellom $a$ og $b$ kunne vi ha funnet den rette linja mellom punktene\n",
    "$(a,f(a))$ og $(b,f(b))$ og valgt $c$ som dennes skjæringspunkt med $y$-aksen. Denne metoden kalles regula falsi.\n",
    "\n",
    "Verifiser at formelen for dette punktet er\n",
    "$$\n",
    "     c = \\frac{a\\, f(b)-b\\, f(a)}{f(b)-f(a)}.\n",
    "$$\n"
   ]
  },
  {
   "cell_type": "markdown",
   "metadata": {},
   "source": [
    "### Oppgave\n",
    "Gjør nå følgende: Kopier koden for bisect til en ny funksjon, og endre navn til `regula_falsi`.\n",
    "\n",
    "Gjør kun en endring av beregningen av punktet $c$ i henhold til formelen ovenfor og kjør samme eksempel med RegulaFalsi-metoden. Bruk samme toleranse og startverdier for $a$ og $b$.\n",
    "\n",
    "**Spørsmål 2:** Hvor mange iterasjoner trenger regula falsi?\n"
   ]
  },
  {
   "cell_type": "code",
   "execution_count": 8,
   "metadata": {},
   "outputs": [],
   "source": [
    "def regula_falsi(f, a, b, tol):\n",
    "    \"\"\"Bisection method for solving the equation f(x) = 0\n",
    "    \n",
    "    Performs the bisection method on the interval [a,b].\n",
    "    We assume a<b, f(a)*f(b) < 0.\n",
    "    We stop the method when we have bracketed the root up to the tolerance tol.\n",
    "    \"\"\"\n",
    "    assert a<b, \"a is not strictly smaller than b.\"\n",
    "    assert tol>0., \"tol is not a positive real number.\"\n",
    "    fa = f(a)\n",
    "    fb = f(b)\n",
    "    assert fa*fb<0., \"The value of f at a and b seems to have the same sign.\"\n",
    "\n",
    "    iteration_number = 0\n",
    "    while abs(b-a) > tol :\n",
    "        iteration_number += 1\n",
    "        c  = (a*fb-b*fa)/(fb-fa)\n",
    "        fc = f(c)\n",
    "        # Uncomment to get information on every iteration:\n",
    "        #print(\"Iter: %4d, a: %e, f(a): %e, c: %e, f(c): %e, b: %e, f(b): %e\"\n",
    "        #          % (iteration_number,a,fa,c,fc,b,fb))\n",
    "\n",
    "        if fa*fc < 0 :\n",
    "            b  = c\n",
    "            fb = fc\n",
    "        else:\n",
    "            a  = c\n",
    "            fa = fc\n",
    "\n",
    "    return c, iteration_number"
   ]
  },
  {
   "cell_type": "code",
   "execution_count": 9,
   "metadata": {},
   "outputs": [
    {
     "name": "stdout",
     "output_type": "stream",
     "text": [
      "Finally, c=7.351544e-01 and f(c)=1.110223e-16 computed in 18 iterasjoner\n"
     ]
    }
   ],
   "source": [
    "a = 0\n",
    "b = 1\n",
    "tol = 1.0E-06\n",
    "c, niter = regula_falsi(f1, a, b, tol)\n",
    "fc = f1(c)\n",
    "print(\"Finally, c=%e and f(c)=%e computed in %d iterasjoner\" % (c, fc, niter))"
   ]
  },
  {
   "cell_type": "markdown",
   "metadata": {},
   "source": [
    "## Problemet med Regula Falsi, og noen løsninger\n",
    "Et problem med standard Regula Falsi er at den noen ganger ender opp med å holde det ene endepunktet av intervallet fast og endrer kun på det andre. Du skal kunne observere dette med eksemplet ovenfor, iallfall etter noen få iterasjoner. En mulig løsning på problemet er å skalere funksjonsverdien i det punktet som ikke endrer seg, si med en faktor $\\gamma$ som vi foreløpig ikke spesifiserer nærmere. I det følgende bruker vi notasjonen $x\\leftarrow y$ for variable $x$ og $y$. Dette er en programmeringsaktig syntaks og betyr at variablen $x$ gis verdien til $y$ (tilordning). I Python-kode ville man skrevet $x=y$.\n",
    "\n",
    "La $f_a\\leftarrow f(a)$ og $f_b\\leftarrow f(b)$. Anta at vi har beregnet $c$ fra formelen ovenfor og $f_c\\leftarrow f(c)$.\n",
    "De to tilfellene er\n",
    "\n",
    "- $f_b\\cdot f_c > 0$. Da skal $a$ beholdes, mens vi setter $b\\leftarrow c$ og $f_b\\leftarrow f_c$. Samtidig velger vi å skalere funksjonsverdien i punktet som holdes fast ved å sette $f_a\\leftarrow \\gamma\\cdot f_a$\n",
    "- $f_b\\cdot f_c\\leq 0$. Da vet vi at nullpunktet er mellom $b$ og $c$ og den gamle $a$'en må oppdateres. I stedet for å la $a$ ta verdien til $c$ så skal vi omdøpe intervallgrensene og sette:\n",
    "$a\\leftarrow b$, $f_a\\leftarrow f_b$, $b\\leftarrow c$ og $f_b\\leftarrow f_c$. \n",
    "\n",
    "Merk at vi da ikke lenger nødvendigvis har $a<b$, men vi kan fremdeles alltid si at roten ligger mellom $a$ og $b$.\n",
    "\n",
    "Det fins tre populære måter å velge $\\gamma$ på\n",
    "- $\\gamma=1$. Dette er rett og slett standard Regula Falsi som du allerede har implementert.\n",
    "- $\\gamma=\\frac12$. Dette er en variant som omtales som Illinois-metoden i litteraturen\n",
    "- $\\gamma=\\frac{f_b}{f_b+f_c}$. Denne kalles for Pegasus-metoden.\n",
    "\n"
   ]
  },
  {
   "cell_type": "markdown",
   "metadata": {},
   "source": [
    "### Oppgave\n",
    "Du skal nå modifisere funksjonen `regula_falsi`. Kopier den til en ny celle og kall den `regula_falsi_improved`.\n",
    "Legg først til et ekstra inputargument som du kaller for `gamma_function`. For å implementere Pegasus-metoden, må denne være en funksjon av to argumenter, `fb` og `fc`.\n",
    "\n",
    "Modifiser resten av koden din til å følge algoritmen beskrevet ovenfor, og inkluder et kall til `gamma_function` på rett sted. Endre kun koden under `if` og `else`.\n"
   ]
  },
  {
   "cell_type": "code",
   "execution_count": 14,
   "metadata": {},
   "outputs": [],
   "source": [
    "def regula_falsi_improved(f, a, b, tol,gamma):\n",
    "    \"\"\"Bisection method for solving the equation f(x) = 0\n",
    "    \n",
    "    Performs the bisection method on the interval [a,b].\n",
    "    We assume a<b, f(a)*f(b) < 0.\n",
    "    We stop the method when we have bracketed the root up to the tolerance tol.\n",
    "    \"\"\"\n",
    "    assert a<b, \"a is not strictly smaller than b.\"\n",
    "    assert tol>0., \"tol is not a positive real number.\"\n",
    "    fa = f(a)\n",
    "    fb = f(b)\n",
    "    assert fa*fb<0., \"The value of f at a and b seems to have the same sign.\"\n",
    "\n",
    "    iteration_number = 0\n",
    "    while abs(b-a) > tol :\n",
    "        iteration_number += 1\n",
    "        c  = (a*fb-b*fa)/(fb-fa)\n",
    "        fc = f(c)\n",
    "        # Uncomment to get information on every iteration:\n",
    "        #print(\"Iter: %4d, a: %e, f(a): %e, c: %e, f(c): %e, b: %e, f(b): %e\"\n",
    "        #          % (iteration_number,a,fa,c,fc,b,fb))\n",
    "        if fb*fc > 0 :\n",
    "            b = c\n",
    "            fb = fc\n",
    "            fa = gamma*fa\n",
    "        else:\n",
    "            a = b\n",
    "            fa = fb\n",
    "            b = c\n",
    "            fb = fc\n",
    "    return c, iteration_number"
   ]
  },
  {
   "cell_type": "markdown",
   "metadata": {},
   "source": [
    "Som en test av koden kan du skrive en funksjon som alltid returnerer $1$, og se at resultatet er det samme som vanlig Regula Falsi. Husk at funksjonen allikevel må ta to argumenter."
   ]
  },
  {
   "cell_type": "code",
   "execution_count": 15,
   "metadata": {},
   "outputs": [
    {
     "name": "stdout",
     "output_type": "stream",
     "text": [
      "Finally, c=7.351544e-01 and f(c)=1.110223e-16 computed in 18 iterasjoner\n"
     ]
    }
   ],
   "source": [
    "a = 0\n",
    "b = 1\n",
    "tol = 1.0E-06\n",
    "c, niter = regula_falsi_improved(f1, a, b, tol,1)\n",
    "fc = f1(c)\n",
    "print(\"Finally, c=%e and f(c)=%e computed in %d iterasjoner\" % (c, fc, niter))"
   ]
  },
  {
   "cell_type": "markdown",
   "metadata": {},
   "source": [
    "**Spørsmål 3:**\n",
    "Kjør *Illinois* metoden. Bruk samme funksjon, samme toleranse og samme startverdier som før. Hvor mange iterasjoner trenger den før den har konvergert?\n"
   ]
  },
  {
   "cell_type": "code",
   "execution_count": 16,
   "metadata": {},
   "outputs": [
    {
     "name": "stdout",
     "output_type": "stream",
     "text": [
      "Finally, c=7.351544e-01 and f(c)=1.110223e-16 computed in 8 iterasjoner\n"
     ]
    }
   ],
   "source": [
    "a = 0\n",
    "b = 1\n",
    "tol = 1.0E-06\n",
    "c, niter = regula_falsi_improved(f1, a, b, tol,1/2)\n",
    "fc = f1(c)\n",
    "print(\"Finally, c=%e and f(c)=%e computed in %d iterasjoner\" % (c, fc, niter))"
   ]
  },
  {
   "cell_type": "markdown",
   "metadata": {},
   "source": [
    "**Spørsmål 4:**\n",
    "Implementer og kjør *Pegasus* metoden. Bruk samme funksjon, samme toleranse og samme startverdier som før. Hvor mange iterasjoner trenger den før den har konvergert?\n"
   ]
  },
  {
   "cell_type": "code",
   "execution_count": 19,
   "metadata": {
    "collapsed": true
   },
   "outputs": [],
   "source": [
    "def regula_falsi_improved2(f, a, b, tol):\n",
    "    \"\"\"Bisection method for solving the equation f(x) = 0\n",
    "    \n",
    "    Performs the bisection method on the interval [a,b].\n",
    "    We assume a<b, f(a)*f(b) < 0.\n",
    "    We stop the method when we have bracketed the root up to the tolerance tol.\n",
    "    \"\"\"\n",
    "    assert a<b, \"a is not strictly smaller than b.\"\n",
    "    assert tol>0., \"tol is not a positive real number.\"\n",
    "    fa = f(a)\n",
    "    fb = f(b)\n",
    "    assert fa*fb<0., \"The value of f at a and b seems to have the same sign.\"\n",
    "\n",
    "    iteration_number = 0\n",
    "    while abs(b-a) > tol :\n",
    "        iteration_number += 1\n",
    "        c  = (a*fb-b*fa)/(fb-fa)\n",
    "        fc = f(c)\n",
    "        # Uncomment to get information on every iteration:\n",
    "        #print(\"Iter: %4d, a: %e, f(a): %e, c: %e, f(c): %e, b: %e, f(b): %e\"\n",
    "        #          % (iteration_number,a,fa,c,fc,b,fb))\n",
    "        gamma = fb/(fb+fc)\n",
    "        if fb*fc > 0 :\n",
    "            b = c\n",
    "            fb = fc\n",
    "            fa = gamma*fa\n",
    "        else:\n",
    "            a = b\n",
    "            fa = fb\n",
    "            b = c\n",
    "            fb = fc\n",
    "    return c, iteration_number"
   ]
  },
  {
   "cell_type": "code",
   "execution_count": 20,
   "metadata": {},
   "outputs": [
    {
     "name": "stdout",
     "output_type": "stream",
     "text": [
      "Finally, c=7.351544e-01 and f(c)=1.110223e-16 computed in 7 iterasjoner\n"
     ]
    }
   ],
   "source": [
    "a = 0\n",
    "b = 1\n",
    "tol = 1.0E-06\n",
    "c, niter = regula_falsi_improved2(f1, a, b, tol)\n",
    "fc = f1(c)\n",
    "print(\"Finally, c=%e and f(c)=%e computed in %d iterasjoner\" % (c, fc, niter))"
   ]
  },
  {
   "cell_type": "code",
   "execution_count": null,
   "metadata": {
    "collapsed": true
   },
   "outputs": [],
   "source": []
  }
 ],
 "metadata": {
  "kernelspec": {
   "display_name": "Python 3",
   "language": "python",
   "name": "python3"
  },
  "language_info": {
   "codemirror_mode": {
    "name": "ipython",
    "version": 3
   },
   "file_extension": ".py",
   "mimetype": "text/x-python",
   "name": "python",
   "nbconvert_exporter": "python",
   "pygments_lexer": "ipython3",
   "version": "3.7.6"
  },
  "toc": {
   "base_numbering": 1,
   "nav_menu": {},
   "number_sections": true,
   "sideBar": true,
   "skip_h1_title": true,
   "title_cell": "Table of Contents",
   "title_sidebar": "Contents",
   "toc_cell": false,
   "toc_position": {},
   "toc_section_display": true,
   "toc_window_display": false
  }
 },
 "nbformat": 4,
 "nbformat_minor": 2
}
