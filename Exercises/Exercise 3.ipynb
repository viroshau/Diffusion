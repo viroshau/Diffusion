{
 "cells": [
  {
   "cell_type": "markdown",
   "metadata": {},
   "source": [
    "# Øving 3 - Numerisk integrasjon\n",
    "\n",
    "Øvingen har innleveringsfrist fredag 1. februar, kl 11:00. Øvingen blir veiledet i øvingstimen 25. januar.\n",
    "For å øvingen godkjent må du 1) laste opp en Jupyter Notebook (gjerne basert på denne du nå leser) og\n",
    "svare på prøve med kontrollspørsmål, begge deler i Blackboard.\n",
    "\n",
    "**Oppgave 1** Bestem konstanter $R_1, R_2, R_3$ slik at kvadraturformelen\n",
    "\n",
    "$$\n",
    "    Q[f] = R_1 f(0) + R_2 f(0.5) + R_3 f(1)\n",
    "$$\n",
    "\n",
    "approksimerer \n",
    "\n",
    "$$\n",
    "    \\int_0^1 f(x)\\,dx\n",
    "$$\n",
    "\n",
    "med presisjonsgrad minst lik 2.\n",
    "\n",
    "**Kontrollspørsmål 1:** Oppgi $ R_2 - \\frac12 R_1 +  R_0$"
   ]
  },
  {
   "cell_type": "markdown",
   "metadata": {},
   "source": [
    "**Oppgave 2** (Programmering). \n",
    "\n",
    "**a)** Implementer en adaptiv trapesmetode i Python som beskrevet i kapittel 5.4 \n",
    "(du kan gjerne bare oversette Program 5.2 til Python) i boka. Lag Python funksjonen slik at det teller opp og returnerer antall kall til funksjonen som definerer integranden (typisk kalt $f$).\n",
    "\n",
    "**b)** Kjør programmet med toleranse tol=1.0e-08 på integralet\n",
    "\n",
    "$$\n",
    "   I =  \\int_0^1 \\frac{e^{x}}{\\cos x}\\; dx\n",
    "$$\n",
    "\n",
    "**Kontrollspørsmål 2:** Hvor mange funksjonskall bruker programmet med den gitte toleransen på dette problemet.\n",
    "\n",
    "**c)** Test programmet med toleranse 1.0e-07 på problemet\n",
    "\n",
    "$$\n",
    "     \\int_0^{2\\sqrt{2\\pi}} \\sin x^2\\; dx\n",
    "$$\n",
    "\n",
    "Sannsynligvis returnerer funksjonen din et galt svar etter 1 iterasjon. Forklar hvorfor, og foreslå en måte å komme rundt problemet på. \n",
    "\n",
    "**Kontrollspørsmål 3:** Angi antall funksjonskall når du endrer øvre grense i integralet fra $b=2\\sqrt{2\\pi}$ til\n",
    "$b=5$.\n"
   ]
  },
  {
   "cell_type": "code",
   "execution_count": 46,
   "metadata": {},
   "outputs": [],
   "source": [
    "import numpy as np\n",
    "\n",
    "global aorig\n",
    "global borig\n",
    "\n",
    "\n",
    "def f(x):\n",
    "    global iterations\n",
    "    iterations +=1\n",
    "    return np.exp(x)/(np.cos(x))\n",
    "\n",
    "def g(x):\n",
    "    global iterations2\n",
    "    iterations2 +=1\n",
    "    return np.sin(x**2)\n",
    "\n",
    "def adaptive_quadrature(a,b,f,iterations, tol = 1.0e-08):\n",
    "    c = (a+b)/2\n",
    "    Sab = (b-a)*(f(a)+f(b))/2\n",
    "    Sac = (c-a)*(f(a)+f(c))/2\n",
    "    Scb = (b-c)*(f(c)+f(b))/2\n",
    "    if (abs(Sab - Sac-Scb) < 3*tol*(b-a)/(borig-aorig)):\n",
    "        return (Sac + Scb)\n",
    "    else:\n",
    "        return adaptive_quadrature(a,c,f,iterations) + adaptive_quadrature(c,b,f,iterations)\n"
   ]
  },
  {
   "cell_type": "code",
   "execution_count": 47,
   "metadata": {},
   "outputs": [
    {
     "name": "stdout",
     "output_type": "stream",
     "text": [
      "2.21771468981\n",
      "79902\n"
     ]
    }
   ],
   "source": [
    "aorig = 0\n",
    "borig = 1\n",
    "iterations = 0\n",
    "\n",
    "approx= adaptive_quadrature(0,1,f,iterations)\n",
    "print(approx)\n",
    "print(iterations)"
   ]
  },
  {
   "cell_type": "code",
   "execution_count": 48,
   "metadata": {},
   "outputs": [
    {
     "name": "stdout",
     "output_type": "stream",
     "text": [
      "0.527917281502\n",
      "1124382\n"
     ]
    }
   ],
   "source": [
    "iterations2 = 0\n",
    "aorig = 0\n",
    "borig = 5\n",
    "\n",
    "approx = adaptive_quadrature(aorig,borig,g,iterations2, tol = 1.0e-7)\n",
    "print(approx)\n",
    "print(iterations2)"
   ]
  }
 ],
 "metadata": {
  "kernelspec": {
   "display_name": "Python 3",
   "language": "python",
   "name": "python3"
  },
  "language_info": {
   "codemirror_mode": {
    "name": "ipython",
    "version": 3
   },
   "file_extension": ".py",
   "mimetype": "text/x-python",
   "name": "python",
   "nbconvert_exporter": "python",
   "pygments_lexer": "ipython3",
   "version": "3.7.6"
  },
  "toc": {
   "base_numbering": 1,
   "nav_menu": {},
   "number_sections": true,
   "sideBar": true,
   "skip_h1_title": true,
   "title_cell": "Table of Contents",
   "title_sidebar": "Contents",
   "toc_cell": false,
   "toc_position": {},
   "toc_section_display": true,
   "toc_window_display": false
  }
 },
 "nbformat": 4,
 "nbformat_minor": 2
}
