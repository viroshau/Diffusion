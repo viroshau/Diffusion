{
 "cells": [
  {
   "cell_type": "markdown",
   "metadata": {},
   "source": [
    "# Øving X - for de som mangler en øving\n",
    "\n",
    "\n",
    "**Denne øvingen har ingen veiledningstime, den er ment som krisehjelp til de som mangler en øving**\n",
    "\n",
    "**Innleveringsfrist:** Torsdag 11. april, kl 12.00.\n",
    "\n",
    "\n",
    "**Oppgave 1**\n",
    "I denne oppgaven skal vi studere Lamberts W-funksjon for reelle argumenter, dvs vi ser på reelle argumenter med reelle verdier. Funksjonen er implisitt definert ved\n",
    "\n",
    "$$\n",
    "    y=W(x)\\quad\\text{der}\\quad x=ye^y\n",
    "$$\n",
    "\n",
    "Fordi funksjonen $ye^y$ ikke er en til en så vil generelt $W(x)$ kunne ta mer enn én verdi for en gitt $x$.\n",
    "\n",
    "**a)** Vis at \n",
    "* $W(x),\\ x\\in\\mathbb{R}$ er kun definert (med reell verdi) for $x\\geq -e^{-1}$\n",
    "* $W(x)$ har entydig verdi hvis $x\\geq 0$ eller $x=-e^{-1}$\n",
    "* $W(x)$ har to verdier hvis $-e^{-1}< x < 0$\n",
    "\n",
    "\n",
    "**b)** Vis at dersom $-e^{-1}< x < 0$ så fins én rot i intervallet $(-1,0)$ og én rot i intervallet\n",
    "$(2\\ln(-x),-1)$. Vis at dersom $x>0$ så fins en rot i intervallet $(0,\\ln(1+x))$.\n",
    "\n",
    "Nå til $-e^{-1}<x<0$: Vi vet fra **a)** at det fins en rot i intervallet $(-1,0)$. Når vi skal studere\n",
    "intervallet $(-\\infty,-1)$ ser vi på funksjonen $g(y)=y\\,e^{y/2}+1$. Denne har nøyaktig ett kritisk punkt, nemlig i\n",
    "$y=-2$ som vi finner er et globalt minimum. $g(-2)=1-\\frac{2}{e}>0$ så $g(y)>0$ for alle $y$.\n",
    "Da er også $0<e^{y/2}g(y)=ye^y+e^{y/2}$ slik at $ye^y > -e^{y/2}$. For en rot $y^*$ i ligningen\n",
    "er $x=y^* e^{y^*} > -e^{y^*/2}$ som impliserer $e^{y^*/2}>-x$ eller $y^* > 2\\ln(-x)$.\n",
    "\n",
    "**c)** Lag et Python-program som beregner $W(x)$ for alle $x\\geq -e^{-1}$ ved intervallhalveringsmetoden, og beregn begge verdier dersom $-e^{-1}< x < 0$. Gjør gjerne bruk av programmet fra Øving 1 (f.eks. løsningsforslag på Bb).\n",
    "\n",
    "**Selvsjekk** $W(-0.1)=\\{-0.11183\\cdots, -3.5771\\cdots\\}$. Kontroller også mot oppgitte funksjonsverdier i Oppgave 2."
   ]
  },
  {
   "cell_type": "markdown",
   "metadata": {},
   "source": [
    "**Oppgave 2**\n",
    "Vi interpolerer nå Lambert's W-funksjon. Den tar følgende verdier \n",
    "\n",
    "$$\n",
    "\\begin{array}{|r|cccc|}\n",
    "\\hline\n",
    "x    & 0 & 1.0 & 2.0    & 3.0  \\\\\n",
    "W(x) &0 & 0.5671  & 0.8526 & 1.0499 \\\\ \\hline\n",
    "\\end{array}\n",
    "$$\n",
    "\n",
    "Utfør beregningene nedenfor med Python\n",
    "\n",
    "**a)** Lag tabell over dividerte differenser for disse dataene, og bestem et 3. gradspolynom som interpolerer dataene.\n",
    "\n",
    "\n",
    "**b)** Sammenlign resultatet du får fra Oppgave 1 med verdien av interpolasjonspolynomet for $x=1.5$.\n"
   ]
  },
  {
   "cell_type": "code",
   "execution_count": 68,
   "metadata": {
    "collapsed": true
   },
   "outputs": [],
   "source": [
    "import numpy as np\n",
    "\n",
    "def regula_falsi_improved2(x, a, b, tol = 1e-3):\n",
    "    \"\"\"Bisection method for solving the equation f(x) = 0\n",
    "    \n",
    "    Performs the bisection method on the interval [a,b].\n",
    "    We assume a<b, f(a)*f(b) < 0.\n",
    "    We stop the method when we have bracketed the root up to the tolerance tol.\n",
    "    \"\"\"\n",
    "    assert a<b, \"a is not strictly smaller than b.\"\n",
    "    assert tol>0., \"tol is not a positive real number.\"\n",
    "    fa = f(a)-x\n",
    "    fb = f(b)-x\n",
    "    assert fa*fb<0., \"The value of f at a and b seems to have the same sign.\"\n",
    "\n",
    "    while abs(b-a) > tol :\n",
    "        c  = (a+b)/2.0\n",
    "        fc = f(c) -x\n",
    "\n",
    "        if fa*fc < 0 :\n",
    "            b  = c\n",
    "            fb = fc\n",
    "        else:\n",
    "            a  = c\n",
    "            fa = fc\n",
    "    return c\n",
    "\n",
    "def f(y):\n",
    "    return y*np.exp(y)\n",
    "\n",
    "def function(x):\n",
    "    if x < -np.exp(-1.0):\n",
    "        return -1.0\n",
    "    if x==0:\n",
    "        return 0.0\n",
    "    elif x==-np.exp(-1):\n",
    "        return -1.0\n",
    "\n",
    "    if x > 0:\n",
    "        a = 0\n",
    "        b = np.log(1+x)\n",
    "        y = regula_falsi_improved2(x, a, b)\n",
    "        return y;\n",
    "    else:\n",
    "        a1 = -1\n",
    "        b1 = 0\n",
    "        y1 = regula_falsi_improved2(x, a1, b1)\n",
    "        \n",
    "        a2 = 2*np.log(-x)\n",
    "        b2 = -1\n",
    "        y2 = regula_falsi_improved2(x, a2, b2)\n",
    "        return np.array([y1,y2])\n",
    "        \n",
    "x = np.linspace(0,3,1000)\n",
    "y_vals = np.array([])\n",
    "\n",
    "for i in x:\n",
    "    yval = function(i)\n",
    "    y_vals = np.append(y_vals, yval)\n",
    "    "
   ]
  },
  {
   "cell_type": "code",
   "execution_count": 69,
   "metadata": {},
   "outputs": [
    {
     "data": {
      "image/png": "[encoded data removed]",
      "text/plain": [
       "<matplotlib.figure.Figure at 0x1192cbd30>"
      ]
     },
     "metadata": {},
     "output_type": "display_data"
    }
   ],
   "source": [
    "import matplotlib.pyplot as plt\n",
    "plt.plot(x,y_vals)\n",
    "plt.show()"
   ]
  },
  {
   "cell_type": "code",
   "execution_count": 92,
   "metadata": {},
   "outputs": [
    {
     "name": "stdout",
     "output_type": "stream",
     "text": [
      "[ 0.  1.  2.  3.]\n",
      "[ 0.          0.56656659  0.8523901   1.04987429]\n",
      "---------\n",
      "[ 0.          0.56656659  0.8523901   1.04987429]\n",
      "[ 0.          0.56656659  0.42619505  0.3499581 ]\n",
      "------------\n",
      "[ 0.          0.56656659  0.42619505  0.3499581 ]\n",
      "[ 0.          0.56656659 -0.14037154 -0.10830425]\n",
      "------------\n",
      "[ 0.          0.56656659 -0.14037154 -0.10830425]\n",
      "[ 0.          0.56656659 -0.14037154  0.03206729]\n",
      "------------\n",
      "----Ferdig----\n",
      "[ 0.          0.56656659 -0.14037154  0.03206729]\n",
      "[ 0.          0.56656659 -0.14037154  0.03206729]\n"
     ]
    }
   ],
   "source": [
    "x = np.linspace(0,3,4)\n",
    "Y = np.array([])\n",
    "for i in x:\n",
    "    yval = function(i)\n",
    "    Y = np.append(Y, yval)\n",
    "    \n",
    "print(x)\n",
    "print(Y)\n",
    "\n",
    "def newton_coefficients(x,y): #This method yields wrong mid-coefficients, but the correct end coefficients.\n",
    "    n = len(x)\n",
    "    a = y.copy()\n",
    "    for i in range(1,n):\n",
    "        a[i:n] = (a[i:n]-a[i-1])/(x[i:n]-x[i-1])\n",
    "    return a\n",
    "\n",
    "def newton2(x,y):\n",
    "    n = len(x)\n",
    "    a = y.copy()\n",
    "    for j in range(1, n):\n",
    "        for i in range(n-1, j-1, -1):\n",
    "            a[i] = (a[i]-a[i-1])/(x[i]-x[i-j])\n",
    "            \n",
    "    return a\n",
    "\n",
    "a = newton_coefficients(x,Y)\n",
    "a2 = newton2(x,Y)\n",
    "print(\"----Ferdig----\")\n",
    "print(a)\n",
    "print(a2)\n"
   ]
  },
  {
   "cell_type": "code",
   "execution_count": null,
   "metadata": {
    "collapsed": true
   },
   "outputs": [],
   "source": [
    "def p(x,X_list,Y):\n",
    "    a = newton2(X_list,Y)\n",
    "    sum = a[0]\n",
    "    for i in range(1,len(a)):\n",
    "        a[i]*(x-X_list[i])\n",
    "    return sum\n"
   ]
  }
 ],
 "metadata": {
  "kernelspec": {
   "display_name": "Python 3",
   "language": "python",
   "name": "python3"
  },
  "language_info": {
   "codemirror_mode": {
    "name": "ipython",
    "version": 3
   },
   "file_extension": ".py",
   "mimetype": "text/x-python",
   "name": "python",
   "nbconvert_exporter": "python",
   "pygments_lexer": "ipython3",
   "version": "3.7.6"
  },
  "toc": {
   "base_numbering": 1,
   "nav_menu": {},
   "number_sections": true,
   "sideBar": true,
   "skip_h1_title": true,
   "title_cell": "Table of Contents",
   "title_sidebar": "Contents",
   "toc_cell": false,
   "toc_position": {},
   "toc_section_display": true,
   "toc_window_display": false
  }
 },
 "nbformat": 4,
 "nbformat_minor": 2
}
