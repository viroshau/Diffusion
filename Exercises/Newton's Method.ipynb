{
 "cells": [
  {
   "cell_type": "code",
   "execution_count": 1,
   "metadata": {},
   "outputs": [
    {
     "name": "stdout",
     "output_type": "stream",
     "text": [
      "1.35\n",
      "1.175\n",
      "1.0874999999999997\n",
      "1.04375\n",
      "1.0218749999999994\n",
      "1.010937499999999\n",
      "1.0054687500000008\n",
      "1.0027343749999922\n",
      "1.0013671875000143\n",
      "1.0006835937500345\n",
      "Iterations:  10\n",
      "1.0000000000000002\n",
      "1.0000000000000002\n",
      "Iterations:  2\n"
     ]
    }
   ],
   "source": [
    "def newtons_method(f,df,x0,multiplicity = 1, tol = 1e-3, maxiter = 1000):\n",
    "    x = x0\n",
    "    x1 = x0\n",
    "    errorest = 2*tol\n",
    "    iter = 0\n",
    "    while errorest > tol and iter < maxiter:\n",
    "        x = x1\n",
    "        x1 = x - multiplicity*(f(x)/(df(x)))\n",
    "        errorest = abs(x1-x)\n",
    "        iter +=1\n",
    "        print(x1)\n",
    "    return x1, iter\n",
    "\n",
    "\n",
    "def f(x):\n",
    "    return x**2 - 2*x +1\n",
    "\n",
    "def df(x):\n",
    "    return 2*x - 2\n",
    "\n",
    "x0 = 1.7\n",
    "x1,iterations = newtons_method(f,df,x0)\n",
    "print(\"Iterations: \", iterations)\n",
    "x2, iterations2 = newtons_method(f,df,x0, multiplicity = 2)\n",
    "print(\"Iterations: \", iterations2)"
   ]
  }
 ],
 "metadata": {
  "kernelspec": {
   "display_name": "Python 3",
   "language": "python",
   "name": "python3"
  },
  "language_info": {
   "codemirror_mode": {
    "name": "ipython",
    "version": 3
   },
   "file_extension": ".py",
   "mimetype": "text/x-python",
   "name": "python",
   "nbconvert_exporter": "python",
   "pygments_lexer": "ipython3",
   "version": "3.6.1"
  }
 },
 "nbformat": 4,
 "nbformat_minor": 2
}
