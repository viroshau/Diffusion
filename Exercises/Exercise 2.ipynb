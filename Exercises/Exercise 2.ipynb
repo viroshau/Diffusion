{
 "cells": [
  {
   "cell_type": "markdown",
   "metadata": {},
   "source": [
    "# Øving 2 - Polynominterpolasjon\n",
    "\n",
    "Denne øvingen dreier seg om polynominterpolasjon. Bruk penn og papir til å finne svarene. Ta quizen i Bb.\n",
    "\n",
    "## Oppgave 1\n",
    "La følgende interpolasjonsdata være gitt\n",
    "\n",
    "$$\n",
    " \\begin{array}{|r||r|r|r|r|}\n",
    " \\hline\n",
    " x_i & 0 & 1 & 2 & 3 \\\\ \\hline\n",
    " y_i & 1 & -1 & 1 & 4 \\\\ \\hline\n",
    " \\end{array}\n",
    "$$\n",
    "\n",
    "**Oppgave 1a.**\n",
    "Bestem Lagrangefunksjonene $L_i(x),\\ i=0,\\ldots,3$ og bestem interpolasjonspolynomet $P_3(x)$ av grad 3.\n",
    "\n"
   ]
  },
  {
   "cell_type": "markdown",
   "metadata": {},
   "source": [
    "**Kontrollspørsmål 0:**\n",
    "Hva er koeffisienten foran $x^3$ i $L_0$?\n",
    "\n",
    "**Kontrollspørsmål 1:**\n",
    "Hva er koeffisienten foran $x$ i $L_1$?\n",
    "\n",
    "**Kontrollspørsmål 2:**\n",
    "Hva er koeffisienten foran $x^0$ i $L_2$?\n",
    "\n",
    "**Kontrollspørsmål 3:**\n",
    "Hva er koeffisienten foran $x^2$ i $L_3$?\n",
    "\n",
    "**Kontrollspørsmål 4:**\n",
    "Hva er koeffisienten foran $x^3$ i $P_3$?\n"
   ]
  },
  {
   "cell_type": "markdown",
   "metadata": {},
   "source": [
    "**Oppgave 1b.** Sett opp tabellen over dividerte differenser for dataene ovenfor, og skriv ned interpolasjonspolynomet på Newton's form."
   ]
  },
  {
   "cell_type": "markdown",
   "metadata": {},
   "source": [
    "**Kontrollspørsmål 5:**\n",
    "Hva er $f\\left[x_0, x_1, x_2\\right]$?\n",
    "\n",
    "**Kontrollspørsmål 6:**\n",
    "Hva er koeffisienten foran $(x-0)(x-1)$?"
   ]
  },
  {
   "cell_type": "markdown",
   "metadata": {},
   "source": [
    "## Oppgave 2\n",
    "Gitt abscisser $x_0,\\ldots,x_n$ og en funksjon $y=f(x)$. La $\\mathcal{P}_n$ bestå av polynomer av grad høyst $n$. Typisk har vi vært opptatt av å finne $P_n\\in\\mathcal{P}_n$ slik at $P_n(x_i)=f(x_i)$, $i=0,\\ldots.n$.\n",
    "\n",
    "**Oppgave 2a.** Begrunn følgende utsagn:\n",
    "\n",
    " <center> <i>Hvis $f\\in \\mathcal{P}_n$ så er $P_n(x)\\equiv f(x)$  </i></center>"
   ]
  },
  {
   "cell_type": "markdown",
   "metadata": {},
   "source": [
    "**Oppgave 2b.** Du har tidligere lært om noen nyttige summasjonsformler. For eksempel vet du sikkert at\n",
    "\n",
    "$$\n",
    "   1 + 2 + 3 + \\cdots + n = \\frac{n(n+1)}{2} .\n",
    "$$\n",
    "\n",
    "Det er selvsagt ikke rart at svaret er et andregradspolynom i $n$ siden summen er en approksimasjon til\n",
    "$\\int_0^n x\\,dx=\\frac12 n^2$. Det er derfor en plausibel antagelse at\n",
    "\n",
    "$$\n",
    "  f_{k+1}(n) = 1^k + 2^k + 3^k + \\ldots + n^k \\in \\mathcal{P}_{k+1}[n] .\n",
    "$$\n",
    "\n",
    "Med bruk av dividerte differenser bestem $P_{3} \\in \\mathcal{P}_{3}[n]$ slik at $P_3(n)\\equiv f_3(n)=\n",
    "1+2^2+3^2+\\cdots+n^2$."
   ]
  },
  {
   "cell_type": "markdown",
   "metadata": {},
   "source": [
    "**Kontrollspørsmål 7:**\n",
    "Hva er koeffisienten foran $n$ i $P_{3}$?"
   ]
  }
 ],
 "metadata": {
  "kernelspec": {
   "display_name": "Python 3",
   "language": "python",
   "name": "python3"
  },
  "language_info": {
   "codemirror_mode": {
    "name": "ipython",
    "version": 3
   },
   "file_extension": ".py",
   "mimetype": "text/x-python",
   "name": "python",
   "nbconvert_exporter": "python",
   "pygments_lexer": "ipython3",
   "version": "3.7.6"
  },
  "toc": {
   "base_numbering": 1,
   "nav_menu": {},
   "number_sections": true,
   "sideBar": true,
   "skip_h1_title": true,
   "title_cell": "Table of Contents",
   "title_sidebar": "Contents",
   "toc_cell": false,
   "toc_position": {},
   "toc_section_display": true,
   "toc_window_display": false
  }
 },
 "nbformat": 4,
 "nbformat_minor": 2
}
